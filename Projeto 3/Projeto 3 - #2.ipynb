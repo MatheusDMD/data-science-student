{
 "cells": [
  {
   "cell_type": "code",
   "execution_count": 135,
   "metadata": {
    "collapsed": false
   },
   "outputs": [
    {
     "name": "stdout",
     "output_type": "stream",
     "text": [
      "Esperamos trabalhar no diretório\n",
      "C:\\Users\\mathe_000\\Documents\\GitHub\\data-science-student\\Projeto 3\n"
     ]
    }
   ],
   "source": [
    "%matplotlib inline\n",
    "import os\n",
    "import pandas as pd\n",
    "import numpy as np\n",
    "import matplotlib.pyplot as plt\n",
    "import numpy.random as rnd\n",
    "from scipy.stats import ttest_ind\n",
    "import math\n",
    "import random\n",
    "import statsmodels.api as sm\n",
    "\n",
    "print(\"Esperamos trabalhar no diretório\")\n",
    "print(os.getcwd())"
   ]
  },
  {
   "cell_type": "markdown",
   "metadata": {},
   "source": [
    "De maneira bastante simplificada, a técnica estatística chamada de regressão nada mais é do que uma\n",
    "ferramenta que costuma ser bastante empregada quando se objetiva modelar o efeito que algumas\n",
    "variáveis exercem nas outras (no geral, uma variável em função de outras). Basicamente, este estudo\n",
    "consiste na construção e análise de uma relação matemática entre as tais variáveis de interesse.\n",
    "Na terminologia de regressão, a variável que se deseja estudar (efeito) é chamada de variável\n",
    "dependente ou resposta. Já as variáveis que são usadas para explicar a variável dependente são\n",
    "chamadas de regressores, de variáveis independentes ou de variáveis explicativas (causas). Dessa forma,\n",
    "a análise de regressão consiste em estudar como alterações nas variáveis explicativas influenciam o\n",
    "comportamento médio da variável resposta.\n",
    "O tipo mais simples de análise de regressão, chamado de regressão linear simples, envolve uma variável\n",
    "explicativa (comumente chamada de X) e uma variável resposta (comumente chamada de Y). Aqui, vale\n",
    "ressaltar que o termo regressão linear significa regressão linear nos parâmetros."
   ]
  },
  {
   "cell_type": "markdown",
   "metadata": {},
   "source": [
    "a)$y_i = \\beta_0 + \\beta_1 x_i + e_i \\,\\!$\n",
    "\n",
    "$S(\\beta_0,\\beta_1) = \\sum_{i=1}^n \\left( y_i - \\beta_0 - \\beta_1 x_i \\right) ^2$\n",
    "\n",
    "Aplicando a regra da cadeia para a derivada parcial sobre os eixos:\n",
    "\n",
    "$\\begin{align}\n",
    "{\\partial S \\over \\partial \\beta_0} & = {\\partial S \\over \\partial x}*{\\partial x \\over \\partial \\beta_0}\\\\\n",
    "{\\partial S \\over \\partial x} & =  2\\sum_{i=1}^n \\left( y_i - \\beta_0 - \\beta_1 x_i \\right)\\\\\n",
    "{\\partial x \\over \\partial \\beta_0} & = -1\\\\\n",
    "{\\partial S \\over \\partial \\beta_0} & =  2\\sum_{i=1}^n \\left( y_i - \\beta_0 - \\beta_1 x_i \\right) * -1 = 0 \\\\\n",
    "{\\partial S \\over \\partial \\beta_0} & = -2 \\sum_{i=1}^n \\left( y_i - \\beta_0 - \\beta_1 x_i \\right) = 0 \\\\\n",
    "{\\partial S \\over \\partial \\beta_1} & = -2 \\sum_{i=1}^n x_i \\left( y_i - \\beta_0 - \\beta_1 x_i \\right) = 0 \\\\\n",
    "\\end{align}$\n",
    "\n",
    "Dividindo por $2n \\,\\!$ e distrbuindo\n",
    "\n",
    "$\\begin{align}\n",
    "& \\frac{-2 \\sum_{i=1}^n y_i} {2n} + \\frac{2 \\sum_{i=1}^n \\beta_0} {2n} + \\frac{2 \\sum_{i=1}^n \\beta_1 x_i} {2n} = \\frac{0} {2n} \\\\\n",
    "& \\frac{-\\sum_{i=1}^n y_i} {n} + \\frac{\\sum_{i=1}^n \\beta_0} {n} + \\frac{\\beta_1 \\sum_{i=1}^n x_i} {n} = 0 \\\\\n",
    "& -\\bar{y} + \\beta_0 + \\beta_1 \\bar{x} = 0 \\\\\n",
    "& \\beta_0 = \\bar{y} - \\beta_1 \\bar{x}\n",
    "\\end{align}$\n",
    "\n",
    "Em que $\\bar{y}$ é a Média Amostral de $y \\,\\!$ e $\\bar{x}$ é a Média Amostral de $x \\,\\!$\n",
    "\n",
    "$\\begin{align}\n",
    "& -2 \\sum_{i=1}^n x_i \\left(y_i - \\bar{y} + \\beta_1 \\bar{x} - \\beta1 x_i \\right) = 0 \\\\\n",
    "& \\sum_{i=1}^n \\left[ x_i \\left( y_i - \\bar{y} \\right) + x_i \\beta1 \\left( \\bar{x} - x_i \\right) \\right] = 0 \\\\\n",
    "& \\sum_{i=1}^n x_i \\left( y_i - \\bar{y} \\right) + \\beta_1 \\sum_{i=1}^n x_i \\left( \\bar{x} - x_i \\right) = 0 \\\\\n",
    "& \\beta_1 = \\frac{\\sum_{i=1}^n \\left( x_i - \\bar{x} \\right) \\left( y_i - \\bar{y} \\right)} {\\sum_{i=1}^n \\left( x_i - \\bar{x} \\right)^2}\n",
    "\\end{align}$"
   ]
  },
  {
   "cell_type": "code",
   "execution_count": 124,
   "metadata": {
    "collapsed": false
   },
   "outputs": [],
   "source": [
    "ENERGY_SUPPLY = pd.read_excel('Indicator_Energysupply per capita.xlsx')\n",
    "ENERGY = pd.read_excel('energy use per person.xlsx')\n",
    "VEHICLES = pd.read_excel('indicator Motor vehicles per 1000 population 20100824.xlsx')\n",
    "CO2 = pd.read_excel('indicator CDIAC carbon_dioxide_emissions_per_capita.xlsx')"
   ]
  },
  {
   "cell_type": "code",
   "execution_count": 274,
   "metadata": {
    "collapsed": false
   },
   "outputs": [],
   "source": [
    "CO2_2007= pd.DataFrame(np.log(CO2[pd.notnull(CO2[2007])][2007]))\n",
    "VEHICLES_2007= pd.DataFrame(np.log(VEHICLES[pd.notnull(VEHICLES[2007])][2007]))\n",
    "ENERGY_2007= pd.DataFrame(np.log(ENERGY[pd.notnull(ENERGY[\"2007\"])][\"2007\"]))\n",
    "ENERGY_SUPPLY_2010= pd.DataFrame(np.log(ENERGY_SUPPLY[pd.notnull(ENERGY_SUPPLY[2010])][2010]))\n",
    "CO2_2007 = CO2_2007.rename(columns={2007: 'CO2_2007'})\n",
    "VEHICLES_2007 = VEHICLES_2007.rename(columns={2007: 'VEHICLES_2007'})\n",
    "ENERGY_2007 = ENERGY_2007.rename(columns={\"2007\": 'ENERGY_2007'})\n",
    "ENERGY_SUPPLY_2010 = ENERGY_SUPPLY_2010.rename(columns={2010: 'ENERGY_SUPPLY_2010'})\n",
    "\n",
    "df1 = pd.concat([CO2_2007,VEHICLES_2007,ENERGY_2007,ENERGY_SUPPLY_2010],axis=1, join='inner')"
   ]
  },
  {
   "cell_type": "markdown",
   "metadata": {},
   "source": [
    "##Teste de Correlação (OLS)"
   ]
  },
  {
   "cell_type": "code",
   "execution_count": 285,
   "metadata": {
    "collapsed": false
   },
   "outputs": [
    {
     "name": "stdout",
     "output_type": "stream",
     "text": [
      "Intercept            -0.213838\n",
      "VEHICLES_2007         0.196548\n",
      "ENERGY_2007           0.484190\n",
      "ENERGY_SUPPLY_2010   -0.044378\n",
      "dtype: float64\n"
     ]
    },
    {
     "data": {
      "text/html": [
       "<table class=\"simpletable\">\n",
       "<caption>OLS Regression Results</caption>\n",
       "<tr>\n",
       "  <th>Dep. Variable:</th>        <td>CO2_2007</td>     <th>  R-squared:         </th> <td>   0.166</td>\n",
       "</tr>\n",
       "<tr>\n",
       "  <th>Model:</th>                   <td>OLS</td>       <th>  Adj. R-squared:    </th> <td>   0.126</td>\n",
       "</tr>\n",
       "<tr>\n",
       "  <th>Method:</th>             <td>Least Squares</td>  <th>  F-statistic:       </th> <td>   4.110</td>\n",
       "</tr>\n",
       "<tr>\n",
       "  <th>Date:</th>             <td>Sat, 28 Nov 2015</td> <th>  Prob (F-statistic):</th>  <td>0.0100</td> \n",
       "</tr>\n",
       "<tr>\n",
       "  <th>Time:</th>                 <td>20:06:44</td>     <th>  Log-Likelihood:    </th> <td> -123.28</td>\n",
       "</tr>\n",
       "<tr>\n",
       "  <th>No. Observations:</th>      <td>    66</td>      <th>  AIC:               </th> <td>   254.6</td>\n",
       "</tr>\n",
       "<tr>\n",
       "  <th>Df Residuals:</th>          <td>    62</td>      <th>  BIC:               </th> <td>   263.3</td>\n",
       "</tr>\n",
       "<tr>\n",
       "  <th>Df Model:</th>              <td>     3</td>      <th>                     </th>     <td> </td>   \n",
       "</tr>\n",
       "</table>\n",
       "<table class=\"simpletable\">\n",
       "<tr>\n",
       "           <td></td>             <th>coef</th>     <th>std err</th>      <th>t</th>      <th>P>|t|</th> <th>[95.0% Conf. Int.]</th> \n",
       "</tr>\n",
       "<tr>\n",
       "  <th>Intercept</th>          <td>   -0.2138</td> <td>    0.603</td> <td>   -0.355</td> <td> 0.724</td> <td>   -1.418     0.991</td>\n",
       "</tr>\n",
       "<tr>\n",
       "  <th>VEHICLES_2007</th>      <td>    0.1965</td> <td>    0.128</td> <td>    1.534</td> <td> 0.130</td> <td>   -0.060     0.453</td>\n",
       "</tr>\n",
       "<tr>\n",
       "  <th>ENERGY_2007</th>        <td>    0.4842</td> <td>    0.148</td> <td>    3.275</td> <td> 0.002</td> <td>    0.189     0.780</td>\n",
       "</tr>\n",
       "<tr>\n",
       "  <th>ENERGY_SUPPLY_2010</th> <td>   -0.0444</td> <td>    0.198</td> <td>   -0.224</td> <td> 0.823</td> <td>   -0.440     0.351</td>\n",
       "</tr>\n",
       "</table>\n",
       "<table class=\"simpletable\">\n",
       "<tr>\n",
       "  <th>Omnibus:</th>       <td>28.196</td> <th>  Durbin-Watson:     </th> <td>   2.120</td>\n",
       "</tr>\n",
       "<tr>\n",
       "  <th>Prob(Omnibus):</th> <td> 0.000</td> <th>  Jarque-Bera (JB):  </th> <td>  64.214</td>\n",
       "</tr>\n",
       "<tr>\n",
       "  <th>Skew:</th>          <td>-1.347</td> <th>  Prob(JB):          </th> <td>1.14e-14</td>\n",
       "</tr>\n",
       "<tr>\n",
       "  <th>Kurtosis:</th>      <td> 7.011</td> <th>  Cond. No.          </th> <td>    15.4</td>\n",
       "</tr>\n",
       "</table>"
      ],
      "text/plain": [
       "<class 'statsmodels.iolib.summary.Summary'>\n",
       "\"\"\"\n",
       "                            OLS Regression Results                            \n",
       "==============================================================================\n",
       "Dep. Variable:               CO2_2007   R-squared:                       0.166\n",
       "Model:                            OLS   Adj. R-squared:                  0.126\n",
       "Method:                 Least Squares   F-statistic:                     4.110\n",
       "Date:                Sat, 28 Nov 2015   Prob (F-statistic):             0.0100\n",
       "Time:                        20:06:44   Log-Likelihood:                -123.28\n",
       "No. Observations:                  66   AIC:                             254.6\n",
       "Df Residuals:                      62   BIC:                             263.3\n",
       "Df Model:                           3                                         \n",
       "======================================================================================\n",
       "                         coef    std err          t      P>|t|      [95.0% Conf. Int.]\n",
       "--------------------------------------------------------------------------------------\n",
       "Intercept             -0.2138      0.603     -0.355      0.724        -1.418     0.991\n",
       "VEHICLES_2007          0.1965      0.128      1.534      0.130        -0.060     0.453\n",
       "ENERGY_2007            0.4842      0.148      3.275      0.002         0.189     0.780\n",
       "ENERGY_SUPPLY_2010    -0.0444      0.198     -0.224      0.823        -0.440     0.351\n",
       "==============================================================================\n",
       "Omnibus:                       28.196   Durbin-Watson:                   2.120\n",
       "Prob(Omnibus):                  0.000   Jarque-Bera (JB):               64.214\n",
       "Skew:                          -1.347   Prob(JB):                     1.14e-14\n",
       "Kurtosis:                       7.011   Cond. No.                         15.4\n",
       "==============================================================================\n",
       "\"\"\""
      ]
     },
     "execution_count": 285,
     "metadata": {},
     "output_type": "execute_result"
    }
   ],
   "source": [
    "result = sm.formula.ols(formula=\"CO2_2007 ~ VEHICLES_2007 + ENERGY_2007 + ENERGY_SUPPLY_2010\",data=df1).fit()\n",
    "print (result.params)\n",
    "result.summary()"
   ]
  },
  {
   "cell_type": "code",
   "execution_count": 276,
   "metadata": {
    "collapsed": false
   },
   "outputs": [
    {
     "data": {
      "text/plain": [
       "\n",
       "-------------------------Summary of Regression Analysis-------------------------\n",
       "\n",
       "Formula: Y ~ <VEHICLES_2007> + <ENERGY_2007> + <ENERGY_SUPPLY_2010>\n",
       "             + <intercept>\n",
       "\n",
       "Number of Observations:         66\n",
       "Number of Degrees of Freedom:   4\n",
       "\n",
       "R-squared:         0.1659\n",
       "Adj R-squared:     0.1255\n",
       "\n",
       "Rmse:              1.6164\n",
       "\n",
       "F-stat (3, 62):     4.1100, p-value:     0.0100\n",
       "\n",
       "Degrees of Freedom: model 3, resid 62\n",
       "\n",
       "-----------------------Summary of Estimated Coefficients------------------------\n",
       "      Variable       Coef    Std Err     t-stat    p-value    CI 2.5%   CI 97.5%\n",
       "--------------------------------------------------------------------------------\n",
       " VEHICLES_2007     0.1965     0.1281       1.53     0.1301    -0.0546     0.4477\n",
       "   ENERGY_2007     0.4842     0.1479       3.27     0.0017     0.1944     0.7740\n",
       "ENERGY_SUPPLY_2010    -0.0444     0.1979      -0.22     0.8233    -0.4323     0.3436\n",
       "     intercept    -0.2138     0.6026      -0.35     0.7239    -1.3949     0.9672\n",
       "---------------------------------End of Summary---------------------------------"
      ]
     },
     "execution_count": 276,
     "metadata": {},
     "output_type": "execute_result"
    }
   ],
   "source": [
    "from pandas.stats.api import ols\n",
    "ols(y=df1['CO2_2007'], x=df1[['VEHICLES_2007','ENERGY_2007','ENERGY_SUPPLY_2010']])"
   ]
  },
  {
   "cell_type": "markdown",
   "metadata": {},
   "source": [
    "##Interpretação dos dados do teste de Correlação #1\n",
    "\n",
    "###P-Value (P>|t|)\n",
    "A partir de uma análise direta do **p-value**, que indica o teste da hipótese nula de que o coef. é igual a zero, se conseiderarmos **alpha**(valor de significância estatística) como o padrão de **5%** (0.05) podemos considerar os valores de **ENERGY_SUPPLY_2010** e **VEHICLES_2007** estatísticamente irrelevantes.\n",
    "\n",
    "Para termos de análise, consideremos nosso **alpha = 0.15**, assim, na nova iteração, manteremos ambos **ENERGY_2007** e **VEHICLES_2007**"
   ]
  },
  {
   "cell_type": "code",
   "execution_count": 283,
   "metadata": {
    "collapsed": false,
    "scrolled": false
   },
   "outputs": [
    {
     "name": "stdout",
     "output_type": "stream",
     "text": [
      "Intercept       -0.190949\n",
      "VEHICLES_2007    0.187730\n",
      "ENERGY_2007      0.483093\n",
      "dtype: float64\n"
     ]
    },
    {
     "data": {
      "text/html": [
       "<table class=\"simpletable\">\n",
       "<caption>OLS Regression Results</caption>\n",
       "<tr>\n",
       "  <th>Dep. Variable:</th>        <td>CO2_2007</td>     <th>  R-squared:         </th> <td>   0.165</td>\n",
       "</tr>\n",
       "<tr>\n",
       "  <th>Model:</th>                   <td>OLS</td>       <th>  Adj. R-squared:    </th> <td>   0.139</td>\n",
       "</tr>\n",
       "<tr>\n",
       "  <th>Method:</th>             <td>Least Squares</td>  <th>  F-statistic:       </th> <td>   6.234</td>\n",
       "</tr>\n",
       "<tr>\n",
       "  <th>Date:</th>             <td>Sat, 28 Nov 2015</td> <th>  Prob (F-statistic):</th>  <td>0.00339</td>\n",
       "</tr>\n",
       "<tr>\n",
       "  <th>Time:</th>                 <td>19:57:30</td>     <th>  Log-Likelihood:    </th> <td> -123.31</td>\n",
       "</tr>\n",
       "<tr>\n",
       "  <th>No. Observations:</th>      <td>    66</td>      <th>  AIC:               </th> <td>   252.6</td>\n",
       "</tr>\n",
       "<tr>\n",
       "  <th>Df Residuals:</th>          <td>    63</td>      <th>  BIC:               </th> <td>   259.2</td>\n",
       "</tr>\n",
       "<tr>\n",
       "  <th>Df Model:</th>              <td>     2</td>      <th>                     </th>     <td> </td>   \n",
       "</tr>\n",
       "</table>\n",
       "<table class=\"simpletable\">\n",
       "<tr>\n",
       "        <td></td>           <th>coef</th>     <th>std err</th>      <th>t</th>      <th>P>|t|</th> <th>[95.0% Conf. Int.]</th> \n",
       "</tr>\n",
       "<tr>\n",
       "  <th>Intercept</th>     <td>   -0.1909</td> <td>    0.589</td> <td>   -0.324</td> <td> 0.747</td> <td>   -1.369     0.987</td>\n",
       "</tr>\n",
       "<tr>\n",
       "  <th>VEHICLES_2007</th> <td>    0.1877</td> <td>    0.121</td> <td>    1.551</td> <td> 0.126</td> <td>   -0.054     0.430</td>\n",
       "</tr>\n",
       "<tr>\n",
       "  <th>ENERGY_2007</th>   <td>    0.4831</td> <td>    0.147</td> <td>    3.294</td> <td> 0.002</td> <td>    0.190     0.776</td>\n",
       "</tr>\n",
       "</table>\n",
       "<table class=\"simpletable\">\n",
       "<tr>\n",
       "  <th>Omnibus:</th>       <td>28.604</td> <th>  Durbin-Watson:     </th> <td>   2.120</td>\n",
       "</tr>\n",
       "<tr>\n",
       "  <th>Prob(Omnibus):</th> <td> 0.000</td> <th>  Jarque-Bera (JB):  </th> <td>  66.237</td>\n",
       "</tr>\n",
       "<tr>\n",
       "  <th>Skew:</th>          <td>-1.360</td> <th>  Prob(JB):          </th> <td>4.14e-15</td>\n",
       "</tr>\n",
       "<tr>\n",
       "  <th>Kurtosis:</th>      <td> 7.085</td> <th>  Cond. No.          </th> <td>    15.0</td>\n",
       "</tr>\n",
       "</table>"
      ],
      "text/plain": [
       "<class 'statsmodels.iolib.summary.Summary'>\n",
       "\"\"\"\n",
       "                            OLS Regression Results                            \n",
       "==============================================================================\n",
       "Dep. Variable:               CO2_2007   R-squared:                       0.165\n",
       "Model:                            OLS   Adj. R-squared:                  0.139\n",
       "Method:                 Least Squares   F-statistic:                     6.234\n",
       "Date:                Sat, 28 Nov 2015   Prob (F-statistic):            0.00339\n",
       "Time:                        19:57:30   Log-Likelihood:                -123.31\n",
       "No. Observations:                  66   AIC:                             252.6\n",
       "Df Residuals:                      63   BIC:                             259.2\n",
       "Df Model:                           2                                         \n",
       "=================================================================================\n",
       "                    coef    std err          t      P>|t|      [95.0% Conf. Int.]\n",
       "---------------------------------------------------------------------------------\n",
       "Intercept        -0.1909      0.589     -0.324      0.747        -1.369     0.987\n",
       "VEHICLES_2007     0.1877      0.121      1.551      0.126        -0.054     0.430\n",
       "ENERGY_2007       0.4831      0.147      3.294      0.002         0.190     0.776\n",
       "==============================================================================\n",
       "Omnibus:                       28.604   Durbin-Watson:                   2.120\n",
       "Prob(Omnibus):                  0.000   Jarque-Bera (JB):               66.237\n",
       "Skew:                          -1.360   Prob(JB):                     4.14e-15\n",
       "Kurtosis:                       7.085   Cond. No.                         15.0\n",
       "==============================================================================\n",
       "\"\"\""
      ]
     },
     "execution_count": 283,
     "metadata": {},
     "output_type": "execute_result"
    }
   ],
   "source": [
    "result = sm.formula.ols(formula=\"CO2_2007 ~ VEHICLES_2007 + ENERGY_2007\",data=df1).fit()\n",
    "print (result.params)\n",
    "result.summary()"
   ]
  },
  {
   "cell_type": "code",
   "execution_count": 278,
   "metadata": {
    "collapsed": false
   },
   "outputs": [
    {
     "data": {
      "text/plain": [
       "\n",
       "-------------------------Summary of Regression Analysis-------------------------\n",
       "\n",
       "Formula: Y ~ <VEHICLES_2007> + <ENERGY_2007> + <intercept>\n",
       "\n",
       "Number of Observations:         66\n",
       "Number of Degrees of Freedom:   3\n",
       "\n",
       "R-squared:         0.1652\n",
       "Adj R-squared:     0.1387\n",
       "\n",
       "Rmse:              1.6042\n",
       "\n",
       "F-stat (2, 63):     6.2338, p-value:     0.0034\n",
       "\n",
       "Degrees of Freedom: model 2, resid 63\n",
       "\n",
       "-----------------------Summary of Estimated Coefficients------------------------\n",
       "      Variable       Coef    Std Err     t-stat    p-value    CI 2.5%   CI 97.5%\n",
       "--------------------------------------------------------------------------------\n",
       " VEHICLES_2007     0.1877     0.1210       1.55     0.1258    -0.0495     0.4249\n",
       "   ENERGY_2007     0.4831     0.1467       3.29     0.0016     0.1956     0.7705\n",
       "     intercept    -0.1909     0.5894      -0.32     0.7470    -1.3461     0.9642\n",
       "---------------------------------End of Summary---------------------------------"
      ]
     },
     "execution_count": 278,
     "metadata": {},
     "output_type": "execute_result"
    }
   ],
   "source": [
    "from pandas.stats.api import ols\n",
    "ols(y=df1['CO2_2007'], x=df1[['VEHICLES_2007','ENERGY_2007']])"
   ]
  },
  {
   "cell_type": "markdown",
   "metadata": {},
   "source": [
    "##Interpretação dos dados do teste de Correlação #2\n",
    "\n",
    "Após a análise dos P-Value e das conclusões sobre significancia estatística, deve-se analisar outros valores frutos da análise estatística.\n",
    "\n",
    "###Ponto de intersecção com o eixo Y (Intercept)\n",
    "Não há muito sobre essa variável ela realmente indica o ponto de intersecção no eixo das ordenadas. Portanto, o **b** na equação da reta: f(x) = ax + **b** .\n",
    "\n",
    "###R-Quadrado (R-Squared:)\n",
    "Também conhecido como coeficiente de determinação(coefficient of determination) o R-quadrado indica o quanto dos dados se aproximam da linha ajustada de regressão (fitted regression line).\n",
    "\n",
    "O R-quadrado representa a porcentagem da resposta da variação variável(x) do modelo linear, ou seja:\n",
    "\n",
    "$R^2=\\frac{SQ_\\text{exp}}{SQ_\\text{tot}}=1-\\frac{SQ_\\text{res}}{SQ_\\text{tot}}$\n",
    "\n",
    "Variando de 0% até 100%:\n",
    "\n",
    ">0% indica que o modelo não explica de forma alguma a variabilidade das respostas em torno de sua média.\n",
    "\n",
    ">100% indica qu eo modelo explica toda a variabilidade das respostas em torno da média.\n",
    "\n",
    "Contudo, o R-quadrado, não permite determinar se tealmente existe uma tendência, assim, um R-Quadrado alto não indica um modelo que se ajusta perfeitamente aos dados, assim como um baixo não indica que definitivamente não se adequa.\n",
    "\n",
    "Com uma influência(R-quadrado) de somente **0.165**, ainda pode-se tirar conclusões importantes desses dados, independentemente da influência realtivamente baixa na correlação.\n",
    "\n",
    "###R-Quadrado Ajustado (Adj. R-squared:)\n",
    "O R-quadrado ajustado (Adjusted R-squared) normaliza a variação do R-quadrado. Com uma presmissa simples, \n",
    "\n",
    ">Quando se aumenta o número de variáveis que causam impacto na correlação, seu R-quadrado aumenta por que sua capacidade predição melhorou? ou somente porque aumentou o número de variáveis?\n",
    "\n",
    "Então o R-quadrado ajustado trabalha aumentando o seu valor caso o número de variáveis aumente e R-quadrado aumente mais do que valor esperado, por outro lado dimunui se o valor de R-quardrado aumentar menos do que o valor esperado.\n",
    "\n",
    "Uma valor de R-quadrado igual a **0.139** indica que a adição de uma segunda variável ao conjunto das variáveis preditivas implicou em um aumento menor do que o esperado para o modelo. Uma vez que **0.139** < **0.165**.\n",
    "\n",
    "###Teste-F (F-statistic:)\n",
    "Também conhecido como estatística-F, consiste em um teste que diferentemente do do teste-t (estatística-t) pode prever a significância do modelo para mais de uma variável. Contudo, a estatística-F não trabalha com as variáveis preditoras, ou seja, y (**CO2_2007**), assim assume um modelo que só possui intercepto.\n",
    "\n",
    "O teste-F assume como hipóteses:\n",
    "\n",
    ">Hipótese nula: O modelo que somente possui intercepto é igual ao modelo analisado.\n",
    "\n",
    ">Hipótese alternativa: O ajuste do modelo que somente possui intercepto é significantemente reduzido quando comparado com o modelo analisado.\n",
    "\n",
    "O que indica a significância dos dados analisados, ou seja, mesmo com fatores que indicam que seu modelo tem um bom ajuste, o **Teste-F comparado ao seu P-value** indica a significancia do modelo, descrita na variável **(Prob (F-statistic):)** no caso igual a **0.00339**. Portanto, mesmo com a significância de 5% ainda seria significativo, demonstrando um fator de não-aleatoriedade do modelo.\n",
    "\n",
    "###O Critério de Informação de Akaike (AIC:) & O Critério de Informação Bayesiano (BIC)\n",
    "Ambos o AIC quanto o BIC aumentam conforme SQE aumenta, assim uma vez que o SQE tende a diminuir conforme aumenta-se o número de variáveis analisadas no modelo, esses valores ficam menores. Assim deve-se encontrar um balanço entre o aumento no número de variáveis e o valor de AIC e BIC. \n",
    "\n",
    "Existe um universo a ser explorado por trás destas duas variáveis. Contudo, somente um breve resumo foi apresentado, já que este não é o intuito deste documento, mais informações em:\n",
    "\n",
    "https://en.wikipedia.org/wiki/Akaike_information_criterion\n",
    "\n",
    "https://en.wikipedia.org/wiki/Bayesian_information_criterion\n",
    "\n",
    "\n",
    "###Erro Padrão (std err)\n",
    "Também conhecido como Erro padrão da regressão, o Erro padraõ indica o quão errada está seu modelo de regressão. Valores menores associados ao Erro Padrão indicam que seus dados estão mais proximos da linha ajustada, dados na unidade das variáveis.\n",
    "\n",
    "Diferentemente do R-Quadrado, o Erro padrão pode ser usado como um excelente estimador para seus dados já que ele indica que 95% dos dados está a uma distância de mais ou menos duas vezes o erro padrão de sua linha ajustada.\n",
    "\n",
    "Para a regressão analisada **0.121** para **VEHICLES_2007** e **0.147** para **ENERGY_2007**. Indicam a distância de 95% dos dados no modelo de regressão.\n",
    "\n",
    "###Coeficientes de Correlação (Coef.)\n",
    "Representa a mudança média na resposta da variável para cada unidade do preditor(**CO2_2007**). Esse fator demonstra o quanto cada uma das variáveis está influenciando no sistema.\n",
    "\n",
    ">Observe que mais uma vez a exclusão da variável **ENERGY_SUPPLY_2010** foi apoiada, já que seu coef. de correlação. era igual a **-0.044378** o que indica que estava influênciando negativamente no modelo de correlação.\n",
    "\n"
   ]
  },
  {
   "cell_type": "code",
   "execution_count": 272,
   "metadata": {
    "collapsed": false
   },
   "outputs": [
    {
     "data": {
      "image/png": "[encoded data removed]",
      "text/plain": [
       "<matplotlib.figure.Figure at 0xbad1358>"
      ]
     },
     "metadata": {},
     "output_type": "display_data"
    }
   ],
   "source": [
    "df1.plot(kind='scatter', x='CO2_2007', y='ENERGY_SUPPLY_2010');"
   ]
  }
 ],
 "metadata": {
  "kernelspec": {
   "display_name": "Python 3",
   "language": "python",
   "name": "python3"
  },
  "language_info": {
   "codemirror_mode": {
    "name": "ipython",
    "version": 3
   },
   "file_extension": ".py",
   "mimetype": "text/x-python",
   "name": "python",
   "nbconvert_exporter": "python",
   "pygments_lexer": "ipython3",
   "version": "3.4.1"
  }
 },
 "nbformat": 4,
 "nbformat_minor": 0
}
