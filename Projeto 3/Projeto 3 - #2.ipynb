{
 "cells": [
  {
   "cell_type": "code",
   "execution_count": 1,
   "metadata": {
    "collapsed": false
   },
   "outputs": [
    {
     "name": "stdout",
     "output_type": "stream",
     "text": [
      "Esperamos trabalhar no diretório\n",
      "C:\\Users\\mathe_000\\Desktop\\INSPER\\2015-2\\Ciência dos Dados\\Projeto 3\n"
     ]
    }
   ],
   "source": [
    "%matplotlib inline\n",
    "import os\n",
    "import pandas as pd\n",
    "import numpy as np\n",
    "import matplotlib.pyplot as plt\n",
    "import numpy.random as rnd\n",
    "from scipy.stats import ttest_ind\n",
    "import math\n",
    "import random\n",
    "\n",
    "print(\"Esperamos trabalhar no diretório\")\n",
    "print(os.getcwd())"
   ]
  },
  {
   "cell_type": "code",
   "execution_count": 4,
   "metadata": {
    "collapsed": false
   },
   "outputs": [],
   "source": [
    "COAL = pd.read_excel('Coal Consumption per capita.xls.xlsx')\n",
    "ENERGY_SUPPLY = pd.read_excel('Indicator_Energysupply per capita.xlsx')\n",
    "NAT_GAS = pd.read_excel('Natural gas Production per capita.xls.xlsx')\n",
    "OIL = pd.read_excel('Oil Consumption per capita.xls.xlsx')\n",
    "ENERGY = pd.read_excel('energy use per person.xlsx')\n",
    "VEHICLES = pd.read_excel('indicator Motor vehicles per 1000 population 20100824.xlsx')\n",
    "LUNG_CANCER = pd.read_excel('indicator lung male mortality.xlsx')\n",
    "\n",
    "CO2 = pd.read_excel('indicator CDIAC carbon_dioxide_emissions_per_capita.xlsx')\n"
   ]
  },
  {
   "cell_type": "code",
   "execution_count": 18,
   "metadata": {
    "collapsed": false
   },
   "outputs": [],
   "source": [
    "CO2_2007 = CO2[2007]\n",
    "LUNG_CANCER_2002 = LUNG_CANCER[2002]\n",
    "VEHICLES_2007 = VEHICLES[2007]\n",
    "#ENERGY_2007 = ENERGY[2007]\n",
    "OIL_2007 = OIL[2007]\n",
    "NAT_GAS_2007 = NAT_GAS[2007]\n",
    "ENERGY_SUPPLY_2007 = ENERGY_SUPPLY[2010]\n",
    "COAL_2007 = COAL[2007]"
   ]
  }
 ],
 "metadata": {
  "kernelspec": {
   "display_name": "Python 3",
   "language": "python",
   "name": "python3"
  },
  "language_info": {
   "codemirror_mode": {
    "name": "ipython",
    "version": 3
   },
   "file_extension": ".py",
   "mimetype": "text/x-python",
   "name": "python",
   "nbconvert_exporter": "python",
   "pygments_lexer": "ipython3",
   "version": "3.4.1"
  }
 },
 "nbformat": 4,
 "nbformat_minor": 0
}
