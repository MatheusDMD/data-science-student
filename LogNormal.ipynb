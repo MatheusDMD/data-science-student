{
 "cells": [
  {
   "cell_type": "markdown",
   "metadata": {},
   "source": [
    "#**Modelo Probablístico**\n",
    "\n",
    "##**LogNormal**\n",
    "\n",
    "Dias & Gabi"
   ]
  },
  {
   "cell_type": "markdown",
   "metadata": {},
   "source": [
    "2) Há outros modelos probabilísticos contínuos:\n",
    "\n",
    "* Uniforme\n",
    "* Normal\n",
    "* Gamma\n",
    "* t-Student\n",
    "* LogNormal\n",
    "* Beta\n",
    "* F-Snedecor\n",
    "\n",
    "\n",
    "Cada grupo de alunos deve ficar com uma distribuição e deve realizar as seguintes atividades (**num IPython Notebook à parte**, que deve ser publicado no **Github** e ter seu link divulgado para a sala até 24/9):\n",
    "\n",
    "\n",
    "2.1. Gere um plot da densidade de probabilidade da distribuição e de sua cumulativa. Descubra como usando o pacote scipy.stats\n",
    "\n",
    "2.2. Qual a forma analítica (expressão) da distribuição?\n",
    "\n",
    "2.3. Quais parâmetros descrevem a distribuição?\n",
    "\n",
    "2.4. Existe uma fórmula específica para calcular esperança (média) e variáncia em função dos parâmetros?\n",
    "\n",
    "2.5. Que tipo de aplicações tem esta distribuição? Em que tipo de dados é normalmente encontrada?\n",
    "\n",
    "2.6. Essa distribuição é útil para a inferência estatística? (Os Capítulos 7 e 8 do Magalhães darão uma idéia de se sim ou não)"
   ]
  },
  {
   "cell_type": "code",
   "execution_count": 20,
   "metadata": {
    "collapsed": true
   },
   "outputs": [],
   "source": [
    "%matplotlib inline\n",
    "\n",
    "import os\n",
    "import matplotlib.pyplot as plt\n",
    "import pandas as pd\n",
    "from scipy import stats\n",
    "from numpy import linspace"
   ]
  },
  {
   "cell_type": "code",
   "execution_count": 42,
   "metadata": {
    "collapsed": false
   },
   "outputs": [
    {
     "data": {
      "text/plain": [
       "[<matplotlib.lines.Line2D at 0x5524be0>]"
      ]
     },
     "execution_count": 42,
     "metadata": {},
     "output_type": "execute_result"
    },
    {
     "data": {
      "image/png": "[encoded data removed]",
      "text/plain": [
       "<matplotlib.figure.Figure at 0x5308240>"
      ]
     },
     "metadata": {},
     "output_type": "display_data"
    }
   ],
   "source": [
    "#2.1\n",
    "#def lognorm_pdf(x, s):\n",
    " #   1 / (s*x*((2*pi)**(1/2)) * exp(-1/2*(log(x)/s)**2)\n",
    "o=[]\n",
    "k=[]\n",
    "j=[]\n",
    "b=[]\n",
    "a=[]\n",
    "c=[]\n",
    "h = linspace(0,3,100)\n",
    "y = linspace(0,10,100)\n",
    "for x in h:\n",
    "    o.append(stats.lognorm.pdf(x,1/8))\n",
    "    k.append(stats.lognorm.pdf(x,1))\n",
    "    j.append(stats.lognorm.pdf(x,10))\n",
    "for x in y:\n",
    "    a.append(stats.lognorm.cdf(x, 1/8, loc=0, scale=1))\n",
    "    b.append(stats.lognorm.cdf(x, 1, loc=0, scale=1))\n",
    "    c.append(stats.lognorm.cdf(x, 10, loc=0, scale=1))\n",
    "plt.plot(h,o,color = 'blue')\n",
    "plt.plot(h,j,color = 'yellow')\n",
    "plt.plot(h,k,color = 'red')"
   ]
  },
  {
   "cell_type": "code",
   "execution_count": 43,
   "metadata": {
    "collapsed": false
   },
   "outputs": [
    {
     "data": {
      "text/plain": [
       "[<matplotlib.lines.Line2D at 0x557fe80>]"
      ]
     },
     "execution_count": 43,
     "metadata": {},
     "output_type": "execute_result"
    },
    {
     "data": {
      "image/png": "[encoded data removed]",
      "text/plain": [
       "<matplotlib.figure.Figure at 0x542b208>"
      ]
     },
     "metadata": {},
     "output_type": "display_data"
    }
   ],
   "source": [
    "plt.plot(h,a,color = 'blue')\n",
    "plt.plot(h,b,color = 'yellow')\n",
    "plt.plot(h,c,color = 'red')"
   ]
  },
  {
   "cell_type": "code",
   "execution_count": null,
   "metadata": {
    "collapsed": true
   },
   "outputs": [],
   "source": [
    "#2.2\n",
    "#f(x;m,s) = (1/x*s*((2*pi)**(1/2)))*(exp(-(log(x)-m)**2))/(2*s)**2"
   ]
  },
  {
   "cell_type": "markdown",
   "metadata": {},
   "source": [
    "2.3\n",
    "\n",
    "\"m = $ \\mu\\in\\mathbb{R} $ é a média do logaritmo do tempo de falha e s = $ \\sigma > 0 $ é o desvio padrão\""
   ]
  },
  {
   "cell_type": "code",
   "execution_count": null,
   "metadata": {
    "collapsed": true
   },
   "outputs": [],
   "source": [
    "#2.4\n",
    "#E(x)= exp(m+(s**2/2))\n",
    "#Var(x)= exp(2*m+s**2)*(exp(s**2)-1)"
   ]
  },
  {
   "cell_type": "markdown",
   "metadata": {},
   "source": [
    "2.5\n",
    "A distribuição Log-Normal é muito usada para caracterizar tempo de vida de produtos e materiais. Isto inclui fadiga de metal, semicondutores, diodos e isolação elétrica. "
   ]
  },
  {
   "cell_type": "markdown",
   "metadata": {},
   "source": [
    "2.6\n",
    "A distribuição Log-Normal é muito usada para caracterizar tempo de vida de produtos e materiais. Isto inclui fadiga de metal, semicondutores, diodos e isolação elétrica"
   ]
  },
  {
   "cell_type": "markdown",
   "metadata": {},
   "source": [
    "Fonte: \n",
    "\n",
    "http://www.portalaction.com.br/probabilidades/615-distribuicao-log-normal\n",
    "\n",
    "http://www.mbarros.com/documentos/upload/200402_IND1115_aula_6.pdf"
   ]
  },
  {
   "cell_type": "code",
   "execution_count": null,
   "metadata": {
    "collapsed": true
   },
   "outputs": [],
   "source": []
  }
 ],
 "metadata": {
  "kernelspec": {
   "display_name": "Python 3",
   "language": "python",
   "name": "python3"
  },
  "language_info": {
   "codemirror_mode": {
    "name": "ipython",
    "version": 3
   },
   "file_extension": ".py",
   "mimetype": "text/x-python",
   "name": "python",
   "nbconvert_exporter": "python",
   "pygments_lexer": "ipython3",
   "version": "3.4.1"
  }
 },
 "nbformat": 4,
 "nbformat_minor": 0
}
