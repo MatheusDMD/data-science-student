{
 "cells": [
  {
   "cell_type": "markdown",
   "metadata": {},
   "source": [
    "#Encontro 10\n",
    "\n",
    "**Preparo Prévio:**\n",
    "1.\tLeitura prévia necessária: Magalhães e Lima (7ª. Edição): Modelo Normal (pág. 197 a 203).\n",
    "\n",
    "**Hoje:**\n",
    "1.\tDescrever modelos contínuos quanto aos resultados teóricos.\n",
    "2.\tExplicar a utilização de modelos probabilísticos no contexto da literatura estatística.\n",
    "3.\tContrastar resultados teóricos e empíricos.\n",
    "4.\tFechamento do conteúdo.\n",
    "\n",
    "**Próxima aula:**\n",
    "1.\tLeitura prévia necessária: Magalhães e Lima (7ª. Edição): Seção 5.1 (pág. 137) e Seção 5.2 (pág. 146).\n",
    "\n",
    "**Atenção:**\n",
    "<font color=red> Algumas respostas numéricas deste *IPython notebook* deverão ser inseridas na seção adequada do *Blackboard*</font>\n",
    "___"
   ]
  },
  {
   "cell_type": "code",
   "execution_count": 2,
   "metadata": {
    "collapsed": false
   },
   "outputs": [
    {
     "name": "stdout",
     "output_type": "stream",
     "text": [
      "Esperamos trabalhar no diretório\n",
      "C:\\Users\\mathe_000\\Documents\\GitHub\\data-science-student\\Entregas Aulas\n"
     ]
    }
   ],
   "source": [
    "%matplotlib inline\n",
    "\n",
    "import os\n",
    "import matplotlib.pyplot as plt\n",
    "import pandas as pd\n",
    "from scipy import stats\n",
    "import numpy\n",
    "\n",
    "print('Esperamos trabalhar no diretório')\n",
    "print(os.getcwd())"
   ]
  },
  {
   "cell_type": "markdown",
   "metadata": {},
   "source": [
    "Nessa aula, teremos contato com algumas distribuições contínuas e como essas podem ser utilizadas para modelagem de dados reais.\n",
    "\n",
    "**Distribuição Normal**\n",
    "\n",
    "A distribuição Normal tem um abrangente uso prático na modelagem de diversos tipos de variáveis, como, por exemplo, preços, notas, alturas e retornos de ações; entretanto, seu principal destaque está na inferência estatística.\n",
    "\n",
    "Teoricamente, a função densidade de probabilidade (FDP) de uma distribuição Normal com parâmetros $\\mu \\in \\mathbb{R}$ e $\\sigma^2 > 0$ definida por:\n",
    "\n",
    "$$\n",
    "f(x|\\mu, \\sigma^2) = f(x) = \\frac{1}{\\sigma \\sqrt{2\\pi}} e^{-\\frac{(x - \\mu)^2}{2\\sigma^2}}\n",
    "\\quad\\quad\\quad\\quad\n",
    "(1)\n",
    "$$\n",
    "\n",
    "com $x \\in \\mathbb{R}$. Quando uma variável $X$ tem distribuição Normal com tal parametrização, pode-se afirmar que sua esperança e variância são dadas, respectivamente, por $E(X) = \\mu$ e $\\mathrm{Var}(X) = \\sigma^2$. Como notação, utiliza-se $X \\sim N(\\mu, \\sigma^2)$ e lê-se: “a variável $X$ segue uma distribuição Normal com média $\\mu$ e variância $\\sigma^2$”.\n",
    "\n",
    "A Figura 1 mostra a distribuição Normal para alguns valores do parâmetro $\\mu = 10;20;30$ e de $\\sigma^2=25;100;400$. O primeiro gráfico mostra que o aumento dos valores de $\\mu$ deslocam a curva para direita e diminuí-los, deslocam a curva para esquerda. O segundo gráfico mostra o efeito da mudança de $\\sigma^2$, deixando visível que aumentar o desvio padrão achata a curva e diminuí-lo deixa a curva estreita.\n",
    "\n",
    "<img src=\"Normal1.png\"/>\n",
    "<img src=\"Normal2.png\"/>\n",
    "<center><sup>**Figura 1.** Função densidade de probabilidade da Normal\n",
    "sob efeito das mudanças de $\\mu$ e de $\\sigma^2$.</sup></center>\n",
    "\n",
    "De maneira geral, para calcular a probabilidade da variável contínua $X$ não exceder um valor $k$, é necessário obter a área abaixo da curva até esse ponto, isto é, calcular por integral a $P(X \\leq k)$. Entretanto, se $X$ segue uma distribuição Normal, calcular essa probabilidade não é trivial por causa da complexidade de integrar a função descrita na equação (1). Não é de hoje que experimentos vêm sendo modelados por essa distribuição e para conseguir extrair as probabilidades desejadas, alguns recursos e propriedades dessa distribuição foram desenvolvidos.\n",
    "\n",
    "Com o próximo exercício, você deve ser capaz de citar as propriedades da distribuição normal, saber padroniza-la para uma única distribuição conhecida como distribuição normal padrão e ainda saber aplicá-la para tomada de decisão."
   ]
  },
  {
   "cell_type": "markdown",
   "metadata": {},
   "source": [
    "1) Considere uma variável $X$ com distribuição normal e com alguns valores para média $\\mu$ e variância $\\sigma^2$, ou seja, $X \\sim N(\\mu, \\sigma^2)$. Para cada caso, responda:\n",
    "\n",
    "1.1. Qual a probabilidade de ocorrência das seguintes situações?\n",
    "\n",
    " a. $X \\sim N(10, 100) \\Rightarrow P(X < 0); P(X > 20)$;\n",
    " \n",
    " b. $X \\sim N(10, 100) \\Rightarrow P(X < -10); P(X > 30)$;\n",
    "\n",
    " c. $X \\sim N(50, 100) \\Rightarrow P(X < 40); P(X > 60);$;\n",
    " \n",
    " d. $X \\sim N(50, 100) \\Rightarrow P(X < 30); P(X > 70)$;\n",
    " \n",
    " e. $X \\sim N(0, 25) \\Rightarrow P(X < -5); P(X > 5)$;\n",
    " \n",
    " f. $X \\sim N(0, 25) \\Rightarrow P(X < -15); P(X > 15)$;\n",
    " \n",
    " g. $X \\sim N(20, 25) \\Rightarrow P(X < 15); P(X > 25)$;\n",
    " \n",
    " h. $X \\sim N(20, 25) \\Rightarrow P(X < 5); P(X > 35)$;\n",
    "\n",
    "\n"
   ]
  },
  {
   "cell_type": "markdown",
   "metadata": {},
   "source": [
    "Compare os resultados. Utilizando o desenho da distribuição normal, descreva as propriedades que envolvem os valores de $\\mu$ e $\\sigma^2$. \n",
    "\n",
    "<sup>Dica: as duas primeiras probabilidades descritas acima podem ser obtidas com os seguintes comandos no Python:</sup>"
   ]
  },
  {
   "cell_type": "code",
   "execution_count": 4,
   "metadata": {
    "collapsed": false
   },
   "outputs": [
    {
     "data": {
      "text/plain": [
       "1.0"
      ]
     },
     "execution_count": 4,
     "metadata": {},
     "output_type": "execute_result"
    }
   ],
   "source": [
    "stats.norm.cdf(98, loc=7, scale=2.5)"
   ]
  },
  {
   "cell_type": "code",
   "execution_count": 84,
   "metadata": {
    "collapsed": false
   },
   "outputs": [
    {
     "data": {
      "text/plain": [
       "0.15865525393145707"
      ]
     },
     "execution_count": 84,
     "metadata": {},
     "output_type": "execute_result"
    }
   ],
   "source": [
    "1 - stats.norm.cdf(20, loc=10, scale=10)"
   ]
  },
  {
   "cell_type": "code",
   "execution_count": 85,
   "metadata": {
    "collapsed": false
   },
   "outputs": [
    {
     "name": "stdout",
     "output_type": "stream",
     "text": [
      "0.158655253931 0.0227501319482 0.158655253931 0.0227501319482 0.158655253931 0.00134989803163 0.158655253931 0.00134989803163\n"
     ]
    }
   ],
   "source": [
    "a = stats.norm.cdf(0, loc=10, scale=10)\n",
    "b = stats.norm.cdf(-10, loc=10, scale=10)\n",
    "c = stats.norm.cdf(40, loc=50, scale=10)\n",
    "d = stats.norm.cdf(30, loc=50, scale=10)\n",
    "e = stats.norm.cdf(-5, loc=0, scale=5)\n",
    "f = stats.norm.cdf(-15, loc=0, scale=5)\n",
    "g = stats.norm.cdf(15, loc=20, scale=5)\n",
    "h = stats.norm.cdf(5, loc=20, scale=5)\n",
    "print(a,b,c,d,e,f,g,h)"
   ]
  },
  {
   "cell_type": "markdown",
   "metadata": {},
   "source": [
    "1.2. Ache, para $X \\sim N(20, 25)$:\n",
    "\n",
    "**a.** $P(X < 13)$\n",
    "\n",
    "**b.** $P(X > 27)$ \n",
    "\n",
    "**c.** Como se fazia para obter tais probabilidades numa época em que o computador não era de fácil acesso?"
   ]
  },
  {
   "cell_type": "code",
   "execution_count": 86,
   "metadata": {
    "collapsed": false
   },
   "outputs": [
    {
     "name": "stdout",
     "output_type": "stream",
     "text": [
      "0.0807566592338 0.0807566592338\n"
     ]
    }
   ],
   "source": [
    "a2 = stats.norm.cdf(13, loc=20, scale=5)\n",
    "b2 = 1- stats.norm.cdf(27, loc=20, scale=5)\n",
    "print(a2,b2)\n",
    "\n",
    "#C) Fazer mudança de variáreis e usar a tabela de Normal Padrão"
   ]
  },
  {
   "cell_type": "markdown",
   "metadata": {},
   "source": [
    "___\n",
    "2) **Problema de gerenciamento de estoque:**\n",
    "\n",
    "**2.1.** Uma loja de produtos automotivos vende um certo lubrificante. Sempre que o estoque chega a 21 litros um novo pedido de compra é feito. \n",
    "\n",
    "O gerente da loja acha que a quantidade deixada em estoque até que o pedido do lubrificante seja entregue pode estar prejudicando suas vendas por medo de faltar produto.\n",
    "\n",
    "Verificou-se que durante o período entre o pedido de compra e a entrega vende-se, em média, 15 litros de lubrificante, com desvio padrão de 6 litros. Verificou-se também que a distribuição da demanda neste período é bem aproximada por uma normal. O valor deixado em estoque no momento do pedido é adequado? \n"
   ]
  },
  {
   "cell_type": "code",
   "execution_count": 87,
   "metadata": {
    "collapsed": false
   },
   "outputs": [
    {
     "data": {
      "text/plain": [
       "0.84134474606854293"
      ]
     },
     "execution_count": 87,
     "metadata": {},
     "output_type": "execute_result"
    }
   ],
   "source": [
    "stats.norm.cdf(21, loc=15, scale=6)"
   ]
  },
  {
   "cell_type": "markdown",
   "metadata": {},
   "source": [
    "> O pedido é adequado, já que o pedido de 21 litros, cobre probabilisticamente 84% das possibilidades, ou seja, a chance do estoque ser insuficiente é de somente 16%"
   ]
  },
  {
   "cell_type": "markdown",
   "metadata": {},
   "source": [
    "**2.2.** O gerente pretende demorar mais tempo até fazer novos pedidos de compra. Logo, decide que um novo pedido de compra será feito sempre que o estoque chegar a 20 litros.\n",
    "\n",
    "Calcule agora a probabilidade de que o estoque acabe antes que o pedido chegue à loja"
   ]
  },
  {
   "cell_type": "code",
   "execution_count": 88,
   "metadata": {
    "collapsed": false
   },
   "outputs": [
    {
     "data": {
      "text/plain": [
       "0.20232838096364314"
      ]
     },
     "execution_count": 88,
     "metadata": {},
     "output_type": "execute_result"
    }
   ],
   "source": [
    "1- stats.norm.cdf(20, loc=15, scale=6)"
   ]
  },
  {
   "cell_type": "markdown",
   "metadata": {},
   "source": [
    "\n",
    "\n",
    "**2.3.** Com quantos litros de lubrificante no estoque a loja de produtos automotivos deve fazer o pedido de compra de modo a ter no máximo 5% de probabilidade de ficar sem lubrificante?"
   ]
  },
  {
   "cell_type": "code",
   "execution_count": 89,
   "metadata": {
    "collapsed": false
   },
   "outputs": [
    {
     "data": {
      "text/plain": [
       "24.869121761708833"
      ]
     },
     "execution_count": 89,
     "metadata": {},
     "output_type": "execute_result"
    }
   ],
   "source": [
    "stats.norm.ppf(0.95, loc=15, scale=6)\n"
   ]
  },
  {
   "cell_type": "markdown",
   "metadata": {},
   "source": [
    "___\n",
    "3) Uma empresa deve decidir em qual região construir uma padaria: **Bairro A** ou **Bairro B**.\n",
    "\n",
    "> **Como escolher a localização do seu negócio**\n",
    "\n",
    "> *Uma das primeiras (e mais importantes) decisões que se deve tomar ao ao abrir o negócio próprio, é escolher a localização do mesmo, pois trata-se de um ponto estratégico para o sucesso do empreendimento.*\n",
    "\n",
    "> <sup>Fonte: http://guiadoempreendedor.net/como-escolher-a-localizacao-do-seu-negocio/</sup>"
   ]
  },
  {
   "cell_type": "markdown",
   "metadata": {},
   "source": [
    "Os investidores visam atingir um público alvo de maior renda familiar acreditando que essa seja uma boa *proxy* para medida de sucesso do negócio. Logo, a decisão final deverá ser baseada em informações sobre a renda dos moradores dessas regiões. Em princípio, quanto maior o número de famílias com rendas mais altas, maior será a chance do empreendimento ser bem sucedido e nisso, os dois bairros são igualmente populosos. Compare as distribuições de renda pessoal (em salários mínimos) dos dois bairros. Qual é o melhor bairro para construir a padaria? Justifique.\n",
    "\n",
    "* Faça uma breve análise descritiva\n",
    "\n",
    "* Verifique, graficamente, se a distribuição normal pode ser considerada um bom ajuste a variável renda, segmentado por bairro. Use a média amostral e desvio padrão amostral de cada bairro como parâmetros estimados das distribuições normais.\n",
    "\n",
    "* Considerando o modelo normal ajustado, tome uma decisão de escolha de bairro. Saiba justificar adequadamente sua resposta."
   ]
  },
  {
   "cell_type": "code",
   "execution_count": 90,
   "metadata": {
    "collapsed": false
   },
   "outputs": [],
   "source": [
    "Rendas = pd.read_table('Rendas.txt')"
   ]
  },
  {
   "cell_type": "code",
   "execution_count": 91,
   "metadata": {
    "collapsed": false
   },
   "outputs": [
    {
     "name": "stdout",
     "output_type": "stream",
     "text": [
      "0.453477874533 7.001904\n",
      "0.790279616333 6.87053\n"
     ]
    }
   ],
   "source": [
    "Av=Rendas.A.var()\n",
    "Am=Rendas.A.mean()\n",
    "print(Av,Am)\n",
    "Bv=Rendas.B.var()\n",
    "Bm=Rendas.B.mean()\n",
    "print(Bv,Bm)"
   ]
  },
  {
   "cell_type": "code",
   "execution_count": 92,
   "metadata": {
    "collapsed": false
   },
   "outputs": [
    {
     "data": {
      "image/png": "[encoded data removed]",
      "text/plain": [
       "<matplotlib.figure.Figure at 0xb5b87b8>"
      ]
     },
     "metadata": {},
     "output_type": "display_data"
    },
    {
     "data": {
      "image/png": "[encoded data removed]",
      "text/plain": [
       "<matplotlib.figure.Figure at 0xe2c668>"
      ]
     },
     "metadata": {},
     "output_type": "display_data"
    }
   ],
   "source": [
    "Amax = stats.norm.cdf(Rendas.A.max(), loc=Am, scale=Av**(1/2))\n",
    "Bmax = stats.norm.cdf(Rendas.B.max(), loc=Bm, scale=Bv**(1/2))\n",
    "Amin = stats.norm.cdf(Rendas.A.min(), loc=Am, scale=Av**(1/2))\n",
    "Bmin = stats.norm.cdf(Rendas.B.min(), loc=Bm, scale=Bv**(1/2))\n",
    "At = numpy.linspace(int(Rendas.A.min()), int(Rendas.A.max()),100)\n",
    "Bt = numpy.linspace(int(Rendas.B.min()), int(Rendas.B.max()),100)\n",
    "\n",
    "plt.hist(Rendas.A, normed=True, color='red')\n",
    "ax = plt.plot(At, stats.norm.pdf(At, loc=Am, scale=Av**(1/2)), color='black')\n",
    "plt.show()\n",
    "\n",
    "plt.hist(Rendas.B, normed=True, color = 'blue')\n",
    "bx = plt.plot(At, stats.norm.pdf(Bt, loc=Bm, scale=Bv**(1/2)), color='black')\n",
    "plt.show()\n"
   ]
  },
  {
   "cell_type": "code",
   "execution_count": 93,
   "metadata": {
    "collapsed": false
   },
   "outputs": [
    {
     "name": "stdout",
     "output_type": "stream",
     "text": [
      "0.863199521749 0.672543276967\n"
     ]
    }
   ],
   "source": [
    "xb = stats.norm.cdf(6, loc=Bm, scale=Bv**(1/2))\n",
    "Pb = 1-(2*xb)\n",
    "xa = stats.norm.cdf(6, loc=Am, scale=Av**(1/2))\n",
    "Pa = 1-(2*xa)\n",
    "print(Pa,Pb)"
   ]
  },
  {
   "cell_type": "markdown",
   "metadata": {},
   "source": [
    "> Uma vez que a chance da padaria dar certo é proporcional à renda do bairro, o melhor bairro para estabelecer o investimento na padaria, é o bairro A, já que a concentração de rendas maiores é mais elevada nessa região, dado extraído da distribuição probabilistica das rendas acumuladas nas regiões."
   ]
  },
  {
   "cell_type": "code",
   "execution_count": null,
   "metadata": {
    "collapsed": true
   },
   "outputs": [],
   "source": []
  }
 ],
 "metadata": {
  "kernelspec": {
   "display_name": "Python 3",
   "language": "python",
   "name": "python3"
  },
  "language_info": {
   "codemirror_mode": {
    "name": "ipython",
    "version": 3
   },
   "file_extension": ".py",
   "mimetype": "text/x-python",
   "name": "python",
   "nbconvert_exporter": "python",
   "pygments_lexer": "ipython3",
   "version": "3.4.1"
  }
 },
 "nbformat": 4,
 "nbformat_minor": 0
}
