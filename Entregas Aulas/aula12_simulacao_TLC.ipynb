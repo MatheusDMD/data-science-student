{
 "cells": [
  {
   "cell_type": "markdown",
   "metadata": {},
   "source": [
    "# Teorema Central do Limite\n",
    "\n",
    "Neste notebook vamos simular coletar amostras de várias distribuições diferentes (normal, gamma, uniforme, loggamma) e estudar as propriedades da variância e da média retiradas das amostras."
   ]
  },
  {
   "cell_type": "code",
   "execution_count": 16,
   "metadata": {
    "collapsed": true
   },
   "outputs": [],
   "source": [
    "import numpy as np\n",
    "import matplotlib.pyplot as plt\n",
    "import numpy.random as rnd\n",
    "from scipy.stats import norm, gamma, uniform, loggamma\n",
    "%matplotlib inline"
   ]
  },
  {
   "cell_type": "markdown",
   "metadata": {},
   "source": [
    "___\n",
    "## Distribuição da Média Amostral a partir de X com distribuição Gamma"
   ]
  },
  {
   "cell_type": "code",
   "execution_count": 17,
   "metadata": {
    "collapsed": false
   },
   "outputs": [
    {
     "name": "stdout",
     "output_type": "stream",
     "text": [
      "X segue uma distribuição Gamma\n",
      "Média de X:  1.997\n",
      "Variância de X:  1.995\n",
      "--------------------\n"
     ]
    },
    {
     "data": {
      "image/png": "[encoded data removed]",
      "text/plain": [
       "<matplotlib.figure.Figure at 0x7b0ccc0>"
      ]
     },
     "metadata": {},
     "output_type": "display_data"
    }
   ],
   "source": [
    "x = np.linspace(0,10,100)\n",
    "y = gamma.pdf(x,a=2)\n",
    "plt.plot(x,y)\n",
    "plt.axvline(2, color='r')\n",
    " # gera 100.000 amostras aleatórias de uma gamma com parâmetro de forma a=2\n",
    "data = gamma.rvs(a=2, size=100000)\n",
    "plt.hist(data, bins=20, normed=True)\n",
    "print('X segue uma distribuição Gamma')\n",
    "print('Média de X:', \"%6.3f\"%np.mean(data))\n",
    "print('Variância de X:', \"%6.3f\"%np.var(data))\n",
    "print ('-' * 20)"
   ]
  },
  {
   "cell_type": "code",
   "execution_count": 18,
   "metadata": {
    "collapsed": false
   },
   "outputs": [
    {
     "name": "stdout",
     "output_type": "stream",
     "text": [
      "97\n",
      "1.41237784747\n"
     ]
    },
    {
     "data": {
      "image/png": "[encoded data removed]",
      "text/plain": [
       "<matplotlib.figure.Figure at 0x7b93978>"
      ]
     },
     "metadata": {},
     "output_type": "display_data"
    }
   ],
   "source": [
    "for n in range(90,100):\n",
    "    sampling = gamma.rvs(20,4,size=(100000,n))\n",
    "    mean_of_sample = np.mean(sampling,1)\n",
    "    mean_of_mean = np.mean(mean_of_sample)\n",
    "    dp_of_mean = np.std(mean_of_sample,ddof=1)\n",
    "    x = np.linspace(0,40,100)\n",
    "    s = 4/(n)**(1/2)\n",
    "    m = np.mean(data)\n",
    "    norm_cdf = norm.cdf(m + 0.2*4,loc=m,scale=s)\n",
    "    if norm_cdf >= 0.95/2 +0.5 :\n",
    "        plt.figure()\n",
    "        plt.hist(mean_of_sample,bins=20,normed=True)\n",
    "        print(n)\n",
    "        break\n",
    "print(np.std(data))"
   ]
  },
  {
   "cell_type": "markdown",
   "metadata": {},
   "source": [
    "### Construção da distribuição da Média Amostral alterando tamanho amostral n\n",
    "\n",
    "Note que tamanho amostral não é o **número de amostras**, mas sim o **número de elementos que compõem cada amostra**. Nos exemplos abaixo criaremos *sempre* 100.000 amostras, mas variaremos o número de elementos que compõem cada amostra de acordo com a lista `[2, 4, 10, 30, 50, 100]`"
   ]
  },
  {
   "cell_type": "markdown",
   "metadata": {
    "collapsed": true
   },
   "source": [
    "___\n",
    "## Distribuição da Média Amostral a partir de X com distribuição Uniforme\n"
   ]
  },
  {
   "cell_type": "code",
   "execution_count": 19,
   "metadata": {
    "collapsed": false
   },
   "outputs": [
    {
     "name": "stdout",
     "output_type": "stream",
     "text": [
      "X segue uma distribuição Uniforme\n",
      "Média de X:  5.005\n",
      "Variância de X:  8.349\n",
      "--------------------\n"
     ]
    },
    {
     "data": {
      "image/png": "[encoded data removed]",
      "text/plain": [
       "<matplotlib.figure.Figure at 0x7ed7898>"
      ]
     },
     "metadata": {},
     "output_type": "display_data"
    }
   ],
   "source": [
    "x = np.linspace(0,10,100)\n",
    "y = uniform.pdf(x,0,10)\n",
    "plt.plot(x,y)\n",
    "plt.axvline(5, color='r')\n",
    "data = uniform.rvs(0,10, size=100000)\n",
    "plt.hist(data, bins=20, normed=True)\n",
    "print('X segue uma distribuição Uniforme')\n",
    "print('Média de X:', \"%6.3f\"%np.mean(data))\n",
    "print('Variância de X:', \"%6.3f\"%np.var(data))\n",
    "print ('-' * 20)"
   ]
  },
  {
   "cell_type": "code",
   "execution_count": 21,
   "metadata": {
    "collapsed": false
   },
   "outputs": [
    {
     "name": "stdout",
     "output_type": "stream",
     "text": [
      "97\n",
      "2.88943663076\n"
     ]
    },
    {
     "data": {
      "image/png": "[encoded data removed]",
      "text/plain": [
       "<matplotlib.figure.Figure at 0xb90160>"
      ]
     },
     "metadata": {},
     "output_type": "display_data"
    }
   ],
   "source": [
    "for n in range(90,100):\n",
    "    sampling = uniform.rvs(20,4,size=(100000,n))\n",
    "    mean_of_sample = np.mean(sampling,1)\n",
    "    mean_of_mean = np.mean(mean_of_sample)\n",
    "    dp_of_mean = np.std(mean_of_sample,ddof=1)\n",
    "    x = np.linspace(0,40,100)\n",
    "    s = 4/(n)**(1/2)\n",
    "    m = np.mean(data)\n",
    "    norm_cdf = norm.cdf(m + 0.2*4,loc=m,scale=s)\n",
    "    if norm_cdf >= 0.95/2 +0.5 :\n",
    "        plt.figure()\n",
    "        plt.hist(mean_of_sample,bins=20,normed=True)\n",
    "        print(n)\n",
    "        break\n",
    "print(np.std(data))"
   ]
  },
  {
   "cell_type": "markdown",
   "metadata": {},
   "source": [
    "**Construção da distribuição da Média Amostral alterando tamanho amostral n**"
   ]
  },
  {
   "cell_type": "markdown",
   "metadata": {},
   "source": [
    "___\n",
    "## Distribuição da Média Amostral a partir de X com distribuição LogGamma"
   ]
  },
  {
   "cell_type": "code",
   "execution_count": 22,
   "metadata": {
    "collapsed": false
   },
   "outputs": [
    {
     "name": "stdout",
     "output_type": "stream",
     "text": [
      "X segue uma distribuição LogGamma\n",
      "Média de X: 1430.944\n",
      "Variância de X: 77.463\n",
      "--------------------\n"
     ]
    },
    {
     "data": {
      "image/png": "[encoded data removed]",
      "text/plain": [
       "<matplotlib.figure.Figure at 0xb54f28>"
      ]
     },
     "metadata": {},
     "output_type": "display_data"
    }
   ],
   "source": [
    "x = np.linspace(1390,1450,15)\n",
    "y = loggamma.pdf(x,0.08,1440,0.7)\n",
    "plt.plot(x,y)\n",
    "plt.axvline(1430, color='r')\n",
    "data = loggamma.rvs(0.08,1440,0.7, size=100000)\n",
    "plt.hist(data, bins=20, normed=True)\n",
    "print('X segue uma distribuição LogGamma')\n",
    "print('Média de X:', \"%6.3f\"%np.mean(data))\n",
    "print('Variância de X:', \"%6.3f\"%np.var(data))\n",
    "print ('-' * 20)"
   ]
  },
  {
   "cell_type": "code",
   "execution_count": 23,
   "metadata": {
    "collapsed": false
   },
   "outputs": [
    {
     "name": "stdout",
     "output_type": "stream",
     "text": [
      "97\n",
      "8.80129952011\n"
     ]
    },
    {
     "data": {
      "image/png": "[encoded data removed]",
      "text/plain": [
       "<matplotlib.figure.Figure at 0xb21b70>"
      ]
     },
     "metadata": {},
     "output_type": "display_data"
    }
   ],
   "source": [
    "for n in range(90,100):\n",
    "    sampling = loggamma.rvs(20,4,size=(100000,n))\n",
    "    mean_of_sample = np.mean(sampling,1)\n",
    "    mean_of_mean = np.mean(mean_of_sample)\n",
    "    dp_of_mean = np.std(mean_of_sample,ddof=1)\n",
    "    x = np.linspace(0,40,100)\n",
    "    s = 4/(n)**(1/2)\n",
    "    m = np.mean(data)\n",
    "    norm_cdf = norm.cdf(m + 0.2*4,loc=m,scale=s)\n",
    "    if norm_cdf >= 0.95/2 +0.5 :\n",
    "        plt.figure()\n",
    "        plt.hist(mean_of_sample,bins=20,normed=True)\n",
    "        print(n)\n",
    "        break\n",
    "print(np.std(data))"
   ]
  },
  {
   "cell_type": "markdown",
   "metadata": {
    "collapsed": true
   },
   "source": [
    "___\n",
    "## Distribuição da Média Amostral a partir de X com distribuição Normal"
   ]
  },
  {
   "cell_type": "code",
   "execution_count": 24,
   "metadata": {
    "collapsed": false
   },
   "outputs": [
    {
     "name": "stdout",
     "output_type": "stream",
     "text": [
      "X segue uma distribuição Normal\n",
      "Média de X: 19.989\n",
      "Variância de X: 15.984\n",
      "--------------------\n"
     ]
    },
    {
     "data": {
      "image/png": "[encoded data removed]",
      "text/plain": [
       "<matplotlib.figure.Figure at 0xb3fbe0>"
      ]
     },
     "metadata": {},
     "output_type": "display_data"
    }
   ],
   "source": [
    "x = np.linspace(0,40,100)\n",
    "y = norm.pdf(x,20,4)\n",
    "plt.plot(x,y)\n",
    "plt.axvline(20, color='r')\n",
    "data = norm.rvs(20,4, size=100000)\n",
    "plt.hist(data, bins=20, normed=True)\n",
    "print('X segue uma distribuição Normal')\n",
    "print('Média de X:', \"%6.3f\"%np.mean(data))\n",
    "print('Variância de X:', \"%6.3f\"%np.var(data))\n",
    "print ('-' * 20)"
   ]
  },
  {
   "cell_type": "code",
   "execution_count": 25,
   "metadata": {
    "collapsed": false
   },
   "outputs": [
    {
     "name": "stdout",
     "output_type": "stream",
     "text": [
      "97\n",
      "3.99795543178\n"
     ]
    },
    {
     "data": {
      "image/png": "[encoded data removed]",
      "text/plain": [
       "<matplotlib.figure.Figure at 0x3939cf8>"
      ]
     },
     "metadata": {},
     "output_type": "display_data"
    }
   ],
   "source": [
    "for n in range(90,100):\n",
    "    sampling = loggamma.rvs(20,4,size=(100000,n))\n",
    "    mean_of_sample = np.mean(sampling,1)\n",
    "    mean_of_mean = np.mean(mean_of_sample)\n",
    "    dp_of_mean = np.std(mean_of_sample,ddof=1)\n",
    "    x = np.linspace(0,40,100)\n",
    "    s = 4/(n)**(1/2)\n",
    "    m = np.mean(data)\n",
    "    norm_cdf = norm.cdf(m + 0.2*4,loc=m,scale=s)\n",
    "    if norm_cdf >= 0.95/2 +0.5 :\n",
    "        plt.figure()\n",
    "        plt.hist(mean_of_sample,bins=20,normed=True)\n",
    "        print(n)\n",
    "        break\n",
    "print(np.std(data))"
   ]
  },
  {
   "cell_type": "markdown",
   "metadata": {},
   "source": [
    "**Construção da distribuição da Média Amostral alterando tamanho amostral n**"
   ]
  },
  {
   "cell_type": "markdown",
   "metadata": {},
   "source": [
    "## Atividade\n",
    "\n",
    "Usando resultados teóricos ou programação, calcule n de modo que $95\\%$ das médias amostrais fiquem a uma distância de no máximo 0.1 desvios padrões da média populacional.  Obtenha o resultado para todas as distribuições usadas como exemplo (norm, gamma, uniform, loggamma:)"
   ]
  },
  {
   "cell_type": "markdown",
   "metadata": {
    "collapsed": true
   },
   "source": [
    "| Distribuição | $\\sigma$| *n* para conter 95% das amostras em $0.1\\sigma$ |\n",
    "|---|---|---|\n",
    "| norm |4.0 |97|\n",
    "| gamma |1.41 |97|\n",
    "| uniforme |2.88| 97|\n",
    "| loggamma|8.80|97|"
   ]
  },
  {
   "cell_type": "markdown",
   "metadata": {},
   "source": [
    "**Dicas**:\n",
    "- Descubra o $sigma$ de cada distribuição usada na simulação\n",
    "\n",
    "Para simular:\n",
    "- Varie o tamanho `n` das amostras\n",
    "- Conte na variável `mean_of_sample` qual o número de amostras contidas em $[ \\mu - 0.1\\sigma, \\mu + 0.1\\sigma]$\n",
    "- Uma vez que o percentual passar de $95\\%$ pare a simulação. O último `n` usado será a resposta\n",
    "\n",
    "** Desafio**:\n",
    "Descubra uma forma analítica (sem simulação) de resolver o mesmo problema\n"
   ]
  }
 ],
 "metadata": {
  "kernelspec": {
   "display_name": "Python 3",
   "language": "python",
   "name": "python3"
  },
  "language_info": {
   "codemirror_mode": {
    "name": "ipython",
    "version": 3
   },
   "file_extension": ".py",
   "mimetype": "text/x-python",
   "name": "python",
   "nbconvert_exporter": "python",
   "pygments_lexer": "ipython3",
   "version": "3.4.1"
  }
 },
 "nbformat": 4,
 "nbformat_minor": 0
}
