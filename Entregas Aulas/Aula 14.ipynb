{
 "cells": [
  {
   "cell_type": "markdown",
   "metadata": {},
   "source": [
    "Matheus Marotzke - Lucas Costanzo\n",
    "\n",
    "Exercício 0 -\n",
    "Exemplo 1 em ipython notebook:\n",
    "\n",
    "As latas de certa marca de refrigerante apresentam em\n",
    "seu rótulo o volume de 350 ml. Um órgão regulador\n",
    "admite um desvio padrão, máximo, igual a 10,5 ml em\n",
    "seu conteúdo.\n",
    "Um órgão que atua na defesa do consumidor desconfia\n",
    "que tal marca está vendendo refrigerantes com\n",
    "conteúdo médio das latas abaixo de 350 ml\n",
    "contrariando o rótulo.\n",
    "Para averiguar a desconfiança do órgão de defesa do\n",
    "consumidor, foi coletada uma amostra de 36 latas do\n",
    "refrigerante em pontos de comercialização e mediu-se\n",
    "o conteúdo destas latas.\n",
    "O resultado obtido na amostra foi: x = 347 ml"
   ]
  },
  {
   "cell_type": "code",
   "execution_count": 50,
   "metadata": {
    "collapsed": true
   },
   "outputs": [],
   "source": [
    "import numpy as np\n",
    "import matplotlib as plt\n",
    "import pandas as pd\n",
    "from scipy import stats\n",
    "\n",
    "%matplotlib inline"
   ]
  },
  {
   "cell_type": "code",
   "execution_count": 51,
   "metadata": {
    "collapsed": true
   },
   "outputs": [],
   "source": [
    "dados=[344.5,352.9,355.0,348.8,342.0,344.7,346.9,340.9,357.7,341.2,347.1,365.3,340.3,343.2,342.6,333.7,341.9,351.0,348.0,354.3,344.9,348.0,346.4,358.0,340.2,354.4,349.7,339.4,338.8,344.9,330.4,341.7,336.7,363.2,355.9,357.4]"
   ]
  },
  {
   "cell_type": "code",
   "execution_count": 52,
   "metadata": {
    "collapsed": false
   },
   "outputs": [
    {
     "data": {
      "text/plain": [
       "-1.7142857142856818"
      ]
     },
     "execution_count": 52,
     "metadata": {},
     "output_type": "execute_result"
    }
   ],
   "source": [
    "data = pd.Series(dados)\n",
    "m = data.mean()\n",
    "dp = data.std()\n",
    "#z = stats.norm.cdf(0.5, loc=m, scale=dp)\n",
    "(m - 350)/(10.5/(36)**(1/2))"
   ]
  },
  {
   "cell_type": "code",
   "execution_count": 56,
   "metadata": {
    "collapsed": false
   },
   "outputs": [
    {
     "name": "stdout",
     "output_type": "stream",
     "text": [
      "Região crítica: valores menores que 347.869369167 permitem rejeitar a hipótese nula H0\n",
      "Hipótese nula rejeitada porque x_barra é menor que rc\n",
      "347.869369167\n"
     ]
    },
    {
     "data": {
      "image/png": "[encoded data removed]",
      "text/plain": [
       "<matplotlib.figure.Figure at 0x9d14208>"
      ]
     },
     "metadata": {},
     "output_type": "display_data"
    },
    {
     "data": {
      "image/png": "[encoded data removed]",
      "text/plain": [
       "<matplotlib.figure.Figure at 0x9acd5c0>"
      ]
     },
     "metadata": {},
     "output_type": "display_data"
    }
   ],
   "source": [
    "dados = np.array(dados)\n",
    "n = len(dados)\n",
    "media_H0 = 350\n",
    "\n",
    "x_barra = np.mean(dados)\n",
    "num_vezes = 10000\n",
    "\n",
    "\n",
    "medias_amostrais = np.zeros(num_vezes)\n",
    "\n",
    "\n",
    "for i in range(num_vezes):\n",
    "    # Gera uma reamostra dos dados _com_ reposição\n",
    "    amostra = np.random.choice(dados, size=n, replace=True)\n",
    "    media = np.mean(amostra)\n",
    "    medias_amostrais[i] = media\n",
    "\n",
    "\n",
    "bins = np.linspace(min(medias_amostrais), max(medias_amostrais), 50)\n",
    "pd.DataFrame.plot(kind='hist', data=pd.Series(medias_amostrais), bins=bins, normed=True, legend=False)\n",
    "\n",
    "media_geral = np.mean(medias_amostrais)\n",
    "\n",
    "medias_amostrais = medias_amostrais - (media_geral - media_H0)\n",
    "\n",
    "bins = np.linspace(min(medias_amostrais), max(medias_amostrais), 50)\n",
    "pd.DataFrame.plot(kind='hist', data=pd.Series(medias_amostrais), bins=bins, normed=True, legend=False)\n",
    "\n",
    "rc1 = np.percentile(medias_amostrais, 5)\n",
    "\n",
    "print(\"Região crítica: valores menores que\", rc1, \"permitem rejeitar a hipótese nula H0\")\n",
    "\n",
    "np.percentile(medias_amostrais, 95)\n",
    "\n",
    "if x_barra < rc1:\n",
    "    print(\"Hipótese nula rejeitada porque x_barra é menor que rc\")\n",
    "else:\n",
    "    print(\"Hipótese nula não é rejeitada porque x_barra é maior que rc\")\n",
    "    \n",
    "score = stats.percentileofscore(medias_amostrais, x_barra)/100\n",
    "\n",
    "pvalue = 1 - score\n",
    "score\n",
    "\n",
    "print(rc1)"
   ]
  },
  {
   "cell_type": "markdown",
   "metadata": {},
   "source": [
    "Exercício 6 - \n",
    "\n",
    "• O que é um teste z?\n",
    "\n",
    "• Adapte um dos exercícios anteriores que fez para\n",
    "usar um test z do Scipy.stats.\n",
    "\n",
    "• Explique o que são os parâmetros e o significado da\n",
    "saída\n",
    "\n",
    "• ENTENDA"
   ]
  },
  {
   "cell_type": "markdown",
   "metadata": {
    "collapsed": true
   },
   "source": [
    "1) Teste z é qualquer analise estatística cuja distribuição pode ser aproximada por uma distribuição normal."
   ]
  },
  {
   "cell_type": "markdown",
   "metadata": {
    "collapsed": true
   },
   "source": [
    "2/3/4)Não há função z em Scipy.Stats . Contudo, conversamos e compreendemos os conceitos abordados no z-test.\n",
    "\n",
    "Lembrando que a função z-test existe na biblioteca **Stats Models**\n"
   ]
  },
  {
   "cell_type": "code",
   "execution_count": null,
   "metadata": {
    "collapsed": true
   },
   "outputs": [],
   "source": []
  }
 ],
 "metadata": {
  "kernelspec": {
   "display_name": "Python 3",
   "language": "python",
   "name": "python3"
  },
  "language_info": {
   "codemirror_mode": {
    "name": "ipython",
    "version": 3
   },
   "file_extension": ".py",
   "mimetype": "text/x-python",
   "name": "python",
   "nbconvert_exporter": "python",
   "pygments_lexer": "ipython3",
   "version": "3.4.1"
  }
 },
 "nbformat": 4,
 "nbformat_minor": 0
}
